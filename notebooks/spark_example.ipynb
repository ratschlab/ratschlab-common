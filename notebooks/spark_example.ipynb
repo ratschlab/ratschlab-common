{
 "cells": [
  {
   "cell_type": "code",
   "execution_count": 1,
   "metadata": {
    "ExecuteTime": {
     "end_time": "2019-05-13T14:06:54.451350Z",
     "start_time": "2019-05-13T14:06:54.173004Z"
    }
   },
   "outputs": [],
   "source": [
    "from ratschlab_common import spark_wrapper"
   ]
  },
  {
   "cell_type": "markdown",
   "metadata": {},
   "source": [
    "# Spark Wrapper\n",
    "\n",
    "`ratschlab-common` includes a very thin wrapper for [PySpark](https://spark.apache.org/docs/latest/sql-getting-started.html). It sets up a Spark session on the local machine ('local-mode')."
   ]
  },
  {
   "cell_type": "code",
   "execution_count": 2,
   "metadata": {
    "ExecuteTime": {
     "end_time": "2019-05-13T14:07:04.927975Z",
     "start_time": "2019-05-13T14:06:54.454428Z"
    }
   },
   "outputs": [],
   "source": [
    "# setting up a spark session with two exectuors, allocate 1024MB per exectuor + plus 2000MB for the driver\n",
    "spark_session = spark_wrapper.create_spark_session(2, 1024)"
   ]
  },
  {
   "cell_type": "code",
   "execution_count": 3,
   "metadata": {
    "ExecuteTime": {
     "end_time": "2019-05-13T14:07:04.972132Z",
     "start_time": "2019-05-13T14:07:04.931001Z"
    }
   },
   "outputs": [
    {
     "data": {
      "text/html": [
       "\n",
       "            <div>\n",
       "                <p><b>SparkSession - in-memory</b></p>\n",
       "                \n",
       "        <div>\n",
       "            <p><b>SparkContext</b></p>\n",
       "\n",
       "            <p><a href=\"http://192.168.1.31:4040\">Spark UI</a></p>\n",
       "\n",
       "            <dl>\n",
       "              <dt>Version</dt>\n",
       "                <dd><code>v2.4.3</code></dd>\n",
       "              <dt>Master</dt>\n",
       "                <dd><code>local[2]</code></dd>\n",
       "              <dt>AppName</dt>\n",
       "                <dd><code>pyspark-shell</code></dd>\n",
       "            </dl>\n",
       "        </div>\n",
       "        \n",
       "            </div>\n",
       "        "
      ],
      "text/plain": [
       "<pyspark.sql.session.SparkSession at 0x115771e10>"
      ]
     },
     "execution_count": 3,
     "metadata": {},
     "output_type": "execute_result"
    }
   ],
   "source": [
    "# click on the Spark UI link below (needs socks proxy set up on Leomed)!\n",
    "spark_session"
   ]
  },
  {
   "cell_type": "code",
   "execution_count": 4,
   "metadata": {
    "ExecuteTime": {
     "end_time": "2019-05-13T14:07:04.982853Z",
     "start_time": "2019-05-13T14:07:04.975640Z"
    }
   },
   "outputs": [],
   "source": [
    "# reading parquet files into a Spark DataFrame\n",
    "# df = spark_session.read.parquet(input_files)"
   ]
  },
  {
   "cell_type": "markdown",
   "metadata": {
    "ExecuteTime": {
     "end_time": "2019-05-13T13:48:51.963539Z",
     "start_time": "2019-05-13T13:48:51.957558Z"
    }
   },
   "source": [
    "## Custom Config"
   ]
  },
  {
   "cell_type": "markdown",
   "metadata": {
    "ExecuteTime": {
     "end_time": "2019-05-13T13:49:37.126933Z",
     "start_time": "2019-05-13T13:49:37.119566Z"
    }
   },
   "source": [
    "`spark_wrapper.create_spark_session` sets some useful defaults for our environment. However, if you need to tune more, follow the snippet below.\n",
    "\n",
    "Configurations are documented in the corresponding section of the [Spark Documentation](https://spark.apache.org/docs/latest/configuration.html)"
   ]
  },
  {
   "cell_type": "code",
   "execution_count": 5,
   "metadata": {
    "ExecuteTime": {
     "end_time": "2019-05-13T14:07:05.051086Z",
     "start_time": "2019-05-13T14:07:04.986403Z"
    }
   },
   "outputs": [
    {
     "data": {
      "text/html": [
       "\n",
       "            <div>\n",
       "                <p><b>SparkSession - in-memory</b></p>\n",
       "                \n",
       "        <div>\n",
       "            <p><b>SparkContext</b></p>\n",
       "\n",
       "            <p><a href=\"http://192.168.1.31:4040\">Spark UI</a></p>\n",
       "\n",
       "            <dl>\n",
       "              <dt>Version</dt>\n",
       "                <dd><code>v2.4.3</code></dd>\n",
       "              <dt>Master</dt>\n",
       "                <dd><code>local[2]</code></dd>\n",
       "              <dt>AppName</dt>\n",
       "                <dd><code>pyspark-shell</code></dd>\n",
       "            </dl>\n",
       "        </div>\n",
       "        \n",
       "            </div>\n",
       "        "
      ],
      "text/plain": [
       "<pyspark.sql.session.SparkSession at 0x115771e10>"
      ]
     },
     "execution_count": 5,
     "metadata": {},
     "output_type": "execute_result"
    }
   ],
   "source": [
    "my_config = (spark_wrapper.default_spark_config(1, 1024).\n",
    "               set('spark.sql.shuffle.partitions', 300)\n",
    "            )\n",
    "\n",
    "spark_wrapper.create_spark_session_from_config(my_config)"
   ]
  }
 ],
 "metadata": {
  "hide_input": false,
  "kernelspec": {
   "display_name": "Python 3",
   "language": "python",
   "name": "python3"
  },
  "language_info": {
   "codemirror_mode": {
    "name": "ipython",
    "version": 3
   },
   "file_extension": ".py",
   "mimetype": "text/x-python",
   "name": "python",
   "nbconvert_exporter": "python",
   "pygments_lexer": "ipython3",
   "version": "3.7.2"
  },
  "toc": {
   "base_numbering": 1,
   "nav_menu": {},
   "number_sections": true,
   "sideBar": true,
   "skip_h1_title": false,
   "title_cell": "Table of Contents",
   "title_sidebar": "Contents",
   "toc_cell": false,
   "toc_position": {},
   "toc_section_display": true,
   "toc_window_display": false
  }
 },
 "nbformat": 4,
 "nbformat_minor": 2
}

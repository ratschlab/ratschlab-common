{
 "cells": [
  {
   "cell_type": "code",
   "execution_count": 1,
   "metadata": {
    "ExecuteTime": {
     "end_time": "2020-06-04T15:49:28.447491Z",
     "start_time": "2020-06-04T15:49:27.245691Z"
    }
   },
   "outputs": [],
   "source": [
    "import numpy as np\n",
    "import pandas as pd\n",
    "import tempfile\n",
    "\n",
    "from scipy.sparse import random"
   ]
  },
  {
   "cell_type": "code",
   "execution_count": 2,
   "metadata": {
    "ExecuteTime": {
     "end_time": "2020-06-04T15:49:28.698902Z",
     "start_time": "2020-06-04T15:49:28.452440Z"
    }
   },
   "outputs": [],
   "source": [
    "from ratschlab_common.io import sparse_df"
   ]
  },
  {
   "cell_type": "markdown",
   "metadata": {},
   "source": [
    "Example for the usage of `sparse_df`.\n",
    "\n",
    "Pandas dataframes support working with sparse data, however, the support for storing such dataframes on disk seems limited. That is where `ratschlab_common.io.sparse_df` comes in, supporting the storage of sparse data frames into HDF5 files. There, the set of sparse columns of a dataframe are stored as [COO matrix](https://docs.scipy.org/doc/scipy/reference/generated/scipy.sparse.coo_matrix.html)."
   ]
  },
  {
   "cell_type": "markdown",
   "metadata": {
    "ExecuteTime": {
     "end_time": "2020-06-04T15:43:06.908612Z",
     "start_time": "2020-06-04T15:43:06.899647Z"
    }
   },
   "source": [
    "## Generate Random Sparse Data Frame"
   ]
  },
  {
   "cell_type": "code",
   "execution_count": 3,
   "metadata": {
    "ExecuteTime": {
     "end_time": "2020-06-04T15:49:28.735561Z",
     "start_time": "2020-06-04T15:49:28.701699Z"
    }
   },
   "outputs": [],
   "source": [
    "cols = 100\n",
    "rows = 100_000\n",
    "\n",
    "column_names = [ f\"col{i}\" for i in range(cols)]\n",
    "row_names =  [ f\"myrow{i}\" for i in range(rows)]"
   ]
  },
  {
   "cell_type": "code",
   "execution_count": 4,
   "metadata": {
    "ExecuteTime": {
     "end_time": "2020-06-04T15:49:29.616594Z",
     "start_time": "2020-06-04T15:49:28.738571Z"
    }
   },
   "outputs": [],
   "source": [
    "# generating random sparse matrix\n",
    "np.random.seed(12345)\n",
    "data_sparse = random(rows, cols, density=0.0001)"
   ]
  },
  {
   "cell_type": "code",
   "execution_count": 5,
   "metadata": {
    "ExecuteTime": {
     "end_time": "2020-06-04T15:49:29.654831Z",
     "start_time": "2020-06-04T15:49:29.619853Z"
    }
   },
   "outputs": [
    {
     "data": {
      "text/plain": [
       "<100000x100 sparse matrix of type '<class 'numpy.float64'>'\n",
       "\twith 1000 stored elements in COOrdinate format>"
      ]
     },
     "execution_count": 5,
     "metadata": {},
     "output_type": "execute_result"
    }
   ],
   "source": [
    "data_sparse"
   ]
  },
  {
   "cell_type": "code",
   "execution_count": 6,
   "metadata": {
    "ExecuteTime": {
     "end_time": "2020-06-04T15:49:29.768583Z",
     "start_time": "2020-06-04T15:49:29.678851Z"
    }
   },
   "outputs": [],
   "source": [
    "df = pd.DataFrame.sparse.from_spmatrix(data_sparse, columns=column_names)"
   ]
  },
  {
   "cell_type": "code",
   "execution_count": 7,
   "metadata": {
    "ExecuteTime": {
     "end_time": "2020-06-04T15:49:29.838954Z",
     "start_time": "2020-06-04T15:49:29.775169Z"
    }
   },
   "outputs": [],
   "source": [
    "df['key'] = row_names\n",
    "# reordering columsn, s.t. 'key' col is first\n",
    "df = df[df.columns.to_list()[-1:] + df.columns.to_list()[:-1]]"
   ]
  },
  {
   "cell_type": "code",
   "execution_count": 8,
   "metadata": {
    "ExecuteTime": {
     "end_time": "2020-06-04T15:49:30.404039Z",
     "start_time": "2020-06-04T15:49:29.846679Z"
    }
   },
   "outputs": [
    {
     "name": "stdout",
     "output_type": "stream",
     "text": [
      "<class 'pandas.core.frame.DataFrame'>\n",
      "RangeIndex: 100000 entries, 0 to 99999\n",
      "Columns: 101 entries, key to col99\n",
      "dtypes: Sparse[float64, 0.0](100), object(1)\n",
      "memory usage: 6.4 MB\n"
     ]
    }
   ],
   "source": [
    "df.info(memory_usage='deep')"
   ]
  },
  {
   "cell_type": "code",
   "execution_count": 9,
   "metadata": {
    "ExecuteTime": {
     "end_time": "2020-06-04T15:49:30.412931Z",
     "start_time": "2020-06-04T15:49:30.407087Z"
    }
   },
   "outputs": [
    {
     "data": {
      "text/plain": [
       "76.2939453125"
      ]
     },
     "execution_count": 9,
     "metadata": {},
     "output_type": "execute_result"
    }
   ],
   "source": [
    "# approximate memory [MB] it would take as a dense data frame\n",
    "cols*rows*8 / 1024**2"
   ]
  },
  {
   "cell_type": "markdown",
   "metadata": {
    "ExecuteTime": {
     "end_time": "2020-06-04T15:43:33.109895Z",
     "start_time": "2020-06-04T15:43:33.106011Z"
    }
   },
   "source": [
    "## Writing Sparse Data Frame to Disk"
   ]
  },
  {
   "cell_type": "code",
   "execution_count": 10,
   "metadata": {
    "ExecuteTime": {
     "end_time": "2020-06-04T15:49:30.547459Z",
     "start_time": "2020-06-04T15:49:30.415955Z"
    }
   },
   "outputs": [
    {
     "name": "stderr",
     "output_type": "stream",
     "text": [
      "/Users/marc/software/anaconda/envs/common/lib/python3.7/site-packages/tables/atom.py:390: FlavorWarning: support for unicode type is very limited, and only works for strings that can be cast as ascii\n",
      "  \"and only works for strings that can be cast as ascii\", FlavorWarning)\n"
     ]
    }
   ],
   "source": [
    "path = tempfile.NamedTemporaryFile().name\n",
    "sparse_df.to_hdf(df, path)"
   ]
  },
  {
   "cell_type": "markdown",
   "metadata": {
    "ExecuteTime": {
     "end_time": "2020-06-04T15:42:46.157719Z",
     "start_time": "2020-06-04T15:42:46.153264Z"
    }
   },
   "source": [
    "## Reading Back"
   ]
  },
  {
   "cell_type": "code",
   "execution_count": 11,
   "metadata": {
    "ExecuteTime": {
     "end_time": "2020-06-04T15:49:30.696172Z",
     "start_time": "2020-06-04T15:49:30.550805Z"
    }
   },
   "outputs": [],
   "source": [
    "my_df = sparse_df.read_hdf(path)"
   ]
  },
  {
   "cell_type": "code",
   "execution_count": 12,
   "metadata": {
    "ExecuteTime": {
     "end_time": "2020-06-04T15:49:30.983489Z",
     "start_time": "2020-06-04T15:49:30.700780Z"
    }
   },
   "outputs": [
    {
     "name": "stdout",
     "output_type": "stream",
     "text": [
      "<class 'pandas.core.frame.DataFrame'>\n",
      "RangeIndex: 100000 entries, 0 to 99999\n",
      "Columns: 101 entries, key to col99\n",
      "dtypes: Sparse[float64, 0.0](100), object(1)\n",
      "memory usage: 6.4 MB\n"
     ]
    }
   ],
   "source": [
    "my_df.info(memory_usage='deep')"
   ]
  }
 ],
 "metadata": {
  "hide_input": false,
  "kernelspec": {
   "display_name": "Python (common)",
   "language": "python",
   "name": "common"
  },
  "language_info": {
   "codemirror_mode": {
    "name": "ipython",
    "version": 3
   },
   "file_extension": ".py",
   "mimetype": "text/x-python",
   "name": "python",
   "nbconvert_exporter": "python",
   "pygments_lexer": "ipython3",
   "version": "3.7.0"
  },
  "toc": {
   "base_numbering": 1,
   "nav_menu": {},
   "number_sections": true,
   "sideBar": true,
   "skip_h1_title": false,
   "title_cell": "Table of Contents",
   "title_sidebar": "Contents",
   "toc_cell": false,
   "toc_position": {},
   "toc_section_display": true,
   "toc_window_display": false
  }
 },
 "nbformat": 4,
 "nbformat_minor": 2
}
